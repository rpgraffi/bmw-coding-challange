{
 "cells": [
  {
   "cell_type": "code",
   "execution_count": 1,
   "metadata": {},
   "outputs": [],
   "source": [
    "import os\n",
    "import instructor\n",
    "from openai import OpenAI\n",
    "from dotenv import load_dotenv\n",
    "from services.core.messages_service import MessagesService\n",
    "\n",
    "load_dotenv()\n",
    "client = instructor.patch(OpenAI(api_key=os.getenv(\"OPENAI_API_KEY\")))"
   ]
  },
  {
   "cell_type": "code",
   "execution_count": 2,
   "metadata": {},
   "outputs": [
    {
     "name": "stdout",
     "output_type": "stream",
     "text": [
      "{'role': 'system', 'content': 'You are an assistant that helps users find sushi restaurants and parking spots in Munich. \\nWhen a user expresses interest in either sushi, parking, or both:\\n1. Use the set_user_interest function to record their preference\\n2. Provide relevant parking or restaurant information\\n3. ALWAYS respond with a natural language message summarizing the information for the user\\n'}\n",
      "{'role': 'user', 'content': 'I want to eat sushi'}\n"
     ]
    }
   ],
   "source": [
    "# Initialize vars\n",
    "messages_service = MessagesService()\n",
    "openai_model = \"gpt-3.5-turbo\"\n",
    "user_interest_enum = None\n",
    "\n",
    "# Initial system message\n",
    "system_prompt = \"\"\"You are an assistant that helps users find sushi restaurants and parking spots in Munich. \n",
    "When a user expresses interest in either sushi, parking, or both:\n",
    "1. Use the set_user_interest function to record their preference\n",
    "2. Provide relevant parking or restaurant information\n",
    "3. ALWAYS respond with a natural language message summarizing the information for the user\n",
    "\"\"\"\n",
    "\n",
    "messages_service.add_system_message(system_prompt)\n",
    "\n",
    "user_prompt = \"I want to park my car\"\n",
    "user_prompt = \"I want to eat sushi\"\n",
    "# user_prompt = \"I want to park my car and eat sushi\"\n",
    "# user_prompt = input(\"eg. I am looking for a Sushi Restaurant in Munich.\")\n",
    "\n",
    "messages_service.add_user_message(user_prompt)\n",
    "messages_service.print_messages()"
   ]
  },
  {
   "cell_type": "code",
   "execution_count": 3,
   "metadata": {},
   "outputs": [
    {
     "name": "stdout",
     "output_type": "stream",
     "text": [
      "{'role': 'system', 'content': 'You are an assistant that helps users find sushi restaurants and parking spots in Munich. \\nWhen a user expresses interest in either sushi, parking, or both:\\n1. Use the set_user_interest function to record their preference\\n2. Provide relevant parking or restaurant information\\n3. ALWAYS respond with a natural language message summarizing the information for the user\\n'}\n",
      "{'role': 'user', 'content': 'I want to eat sushi'}\n",
      "{'role': 'assistant', 'content': 'Great choice! Let me find some amazing sushi restaurants for you in Munich.'}\n",
      "{'role': 'function', 'name': 'UserInterest', 'content': <UserInterestEnum.SUSHI: 'SUSHI'>}\n"
     ]
    }
   ],
   "source": [
    "from models.intent.user_interest_intent import UserInterestIntent\n",
    "\n",
    "# Get user interest\n",
    "intent : UserInterestIntent = client.chat.completions.create(\n",
    "    model=openai_model,\n",
    "    messages=messages_service.get_messages(),\n",
    "    response_model=UserInterestIntent,\n",
    ")\n",
    "\n",
    "messages_service.add_assistant_message(intent.assistant_message)\n",
    "messages_service.add_function_message(UserInterestIntent.__name__, intent.interest)\n",
    "\n",
    "user_interest_enum = intent.interest\n",
    "\n",
    "messages_service.print_messages()"
   ]
  },
  {
   "cell_type": "code",
   "execution_count": 4,
   "metadata": {},
   "outputs": [],
   "source": [
    "# user_prompt = \"List all parking spots\"\n",
    "user_prompt = \"How can i pay for parking?\"\n",
    "user_prompt = \"Where can i eat german sushi?\"\n",
    "messages_service.add_user_message(user_prompt)"
   ]
  },
  {
   "cell_type": "markdown",
   "metadata": {},
   "source": [
    "### Choose response format based on user intend\n",
    "Its either Parking or Sushi"
   ]
  },
  {
   "cell_type": "code",
   "execution_count": 5,
   "metadata": {},
   "outputs": [
    {
     "name": "stdout",
     "output_type": "stream",
     "text": [
      "{'role': 'assistant', 'content': 'I would like to find information on German sushi restaurants in Munich.'}\n",
      "{'role': 'function', 'name': 'UserSushiIntent', 'content': '{\"assistant_message\":\"I would like to find information on German sushi restaurants in Munich.\",\"query_types\":[\"list_all\"],\"specific_restaurant_name\":null,\"location\":null,\"response_detail\":\"brief\"}'}\n",
      "{'role': 'function', 'name': 'handle_intent', 'content': '{\"data\":{\"all_restaurants\":[\"Sasou\",\"Galeria Restaurant\",\"Shaokao Asian Grill&Wine\",\"Secret Garden\"]}}'}\n"
     ]
    }
   ],
   "source": [
    "from services.user.user_interest_service import get_user_interest\n",
    "\n",
    "response_model, intent_service = get_user_interest(user_interest_enum)\n",
    "\n",
    "intent = client.chat.completions.create(\n",
    "    model=openai_model,\n",
    "    messages=messages_service.get_messages(),\n",
    "    response_model=response_model,\n",
    ")\n",
    "\n",
    "messages_service.add_assistant_message(intent.assistant_message)\n",
    "messages_service.print_last_message()\n",
    "messages_service.add_function_message(intent.__class__.__name__, intent)\n",
    "messages_service.print_last_message()\n",
    "\n",
    "result = intent_service.handle_intent(intent)\n",
    "messages_service.add_function_message(intent_service.handle_intent.__name__, result)\n",
    "messages_service.print_last_message()"
   ]
  },
  {
   "cell_type": "code",
   "execution_count": 6,
   "metadata": {},
   "outputs": [
    {
     "name": "stdout",
     "output_type": "stream",
     "text": [
      "{'role': 'assistant', 'content': 'Here are some German sushi restaurants in Munich: \\n1. Sasou \\n2. Galeria Restaurant \\n3. Shaokao Asian Grill&Wine \\n4. Secret Garden'}\n"
     ]
    }
   ],
   "source": [
    "from models.intent.assistant_model import AssistantModel\n",
    "\n",
    "response : AssistantModel = client.chat.completions.create(\n",
    "    model=openai_model,\n",
    "    messages=messages_service.get_messages(),\n",
    "    response_model=AssistantModel,\n",
    ")\n",
    "\n",
    "messages_service.add_assistant_message(response.assistant_message)\n",
    "messages_service.print_last_message()"
   ]
  },
  {
   "cell_type": "markdown",
   "metadata": {},
   "source": [
    "### Use it like a chat"
   ]
  },
  {
   "cell_type": "code",
   "execution_count": 7,
   "metadata": {},
   "outputs": [
    {
     "name": "stdout",
     "output_type": "stream",
     "text": [
      "{'role': 'user', 'content': 'i want sushi fast'}\n",
      "{'role': 'assistant', 'content': 'I will help you find a sushi restaurant quickly.'}\n",
      "{'role': 'function', 'name': 'UserInterest', 'content': <UserInterestEnum.SUSHI: 'SUSHI'>}\n",
      "{'role': 'function', 'name': 'UserSushiIntent', 'content': '{\"assistant_message\":\"I will help you find a sushi restaurant quickly.\",\"query_types\":[\"nearby\"],\"specific_restaurant_name\":null,\"location\":null,\"response_detail\":\"brief\"}'}\n",
      "{'role': 'function', 'name': 'handle_intent', 'content': '{\"data\":{\"nearby\":[{\"title\":\"Sasou\",\"data\":{\"lat\":48.13697,\"lng\":11.5748}},{\"title\":\"Galeria Restaurant\",\"data\":{\"lat\":48.13711,\"lng\":11.57407}},{\"title\":\"Shaokao Asian Grill&Wine\",\"data\":{\"lat\":48.13723,\"lng\":11.57303}},{\"title\":\"Secret Garden\",\"data\":{\"lat\":48.1357,\"lng\":11.57755}}]}}'}\n",
      "{'role': 'assistant', 'content': 'Here are some nearby sushi restaurants in Munich: \\n1. Sasou \\n2. Galeria Restaurant \\n3. Shaokao Asian Grill&Wine \\n4. Secret Garden'}\n",
      "{'role': 'user', 'content': 'okay where can i park?'}\n",
      "{'role': 'assistant', 'content': 'I will help you find parking spots in Munich.'}\n",
      "{'role': 'function', 'name': 'UserInterest', 'content': <UserInterestEnum.PARKING: 'PARKING'>}\n",
      "{'role': 'function', 'name': 'UserParkingIntent', 'content': '{\"assistant_message\":\"I will help you find parking spots in Munich.\",\"query_types\":[\"nearby\"],\"specific_spot_name\":null,\"duration_hours\":null,\"height_requirement\":null,\"location\":null,\"needs_disabled_access\":null,\"payment_method_preference\":null,\"response_detail\":\"brief\"}'}\n",
      "{'role': 'function', 'name': 'handle_intent', 'content': '{\"data\":{\"nearby\":[[\"Marienplatz\",{\"lat\":48.136303966,\"lng\":11.57466799},\"200 meters\"],[\"City\",{\"lat\":48.137116173,\"lng\":11.571689397},\"300 meters\"],[\"Platzl Hotel München\",{\"lat\":48.138232209,\"lng\":11.579035968},\"300 meters\"]]}}'}\n",
      "{'role': 'assistant', 'content': 'Here are some parking spots near your location in Munich: Marienplatz (200 meters away), City (300 meters away), and Platzl Hotel München (300 meters away).'}\n"
     ]
    }
   ],
   "source": [
    "from models.intent.user_interest_intent import UserInterestIntent\n",
    "\n",
    "for i in range(2):\n",
    "    \n",
    "    # get user input\n",
    "    user_prompt = input(\"User: \")\n",
    "    messages_service.add_user_message(user_prompt)\n",
    "    messages_service.print_last_message()\n",
    "\n",
    "\n",
    "    # Get user interest each time to shrink down the response models\n",
    "    intent : UserInterestIntent = client.chat.completions.create(\n",
    "        model=openai_model,\n",
    "        messages=messages_service.get_messages(),\n",
    "        response_model=UserInterestIntent,\n",
    "    )\n",
    "\n",
    "    messages_service.add_assistant_message(intent.assistant_message)\n",
    "    messages_service.print_last_message()\n",
    "    messages_service.add_function_message(UserInterestIntent.__name__, intent.interest)\n",
    "    messages_service.print_last_message()\n",
    "\n",
    "    user_interest_enum = intent.interest\n",
    "    response_model, intent_service = get_user_interest(user_interest_enum)\n",
    "\n",
    "    # get user intent\n",
    "    intent = client.chat.completions.create(\n",
    "        model=openai_model,\n",
    "        messages=messages_service.get_messages(),\n",
    "        response_model=response_model,\n",
    "    )\n",
    "\n",
    "    messages_service.add_function_message(intent.__class__.__name__, intent)\n",
    "    messages_service.print_last_message()\n",
    "\n",
    "    \n",
    "    # handle intent\n",
    "    if not isinstance(intent_service, AssistantModel):\n",
    "        result = intent_service.handle_intent(intent)\n",
    "        messages_service.add_function_message(intent_service.handle_intent.__name__, result)\n",
    "        messages_service.print_last_message()\n",
    "\n",
    "        # Assistant help to summarize the data\n",
    "        response = client.chat.completions.create(\n",
    "            model=openai_model,\n",
    "            messages=messages_service.get_messages(),\n",
    "            response_model=AssistantModel,\n",
    "        )\n",
    "\n",
    "        messages_service.add_assistant_message(response.assistant_message)\n",
    "        messages_service.print_last_message()\n"
   ]
  },
  {
   "cell_type": "code",
   "execution_count": 8,
   "metadata": {},
   "outputs": [],
   "source": [
    "# reset jupiter kernel\n",
    "# %reset -f"
   ]
  },
  {
   "cell_type": "code",
   "execution_count": null,
   "metadata": {},
   "outputs": [],
   "source": []
  }
 ],
 "metadata": {
  "kernelspec": {
   "display_name": ".venv",
   "language": "python",
   "name": "python3"
  },
  "language_info": {
   "codemirror_mode": {
    "name": "ipython",
    "version": 3
   },
   "file_extension": ".py",
   "mimetype": "text/x-python",
   "name": "python",
   "nbconvert_exporter": "python",
   "pygments_lexer": "ipython3",
   "version": "3.12.4"
  }
 },
 "nbformat": 4,
 "nbformat_minor": 2
}

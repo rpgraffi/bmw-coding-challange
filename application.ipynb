{
 "cells": [
  {
   "cell_type": "code",
   "execution_count": 53,
   "metadata": {},
   "outputs": [],
   "source": [
    "import os\n",
    "import json\n",
    "import instructor\n",
    "from openai import OpenAI\n",
    "from datetime import datetime, timedelta\n",
    "from dotenv import load_dotenv\n",
    "from core.messages_service import MessagesService\n",
    "from core.json_service import dump_json_data\n",
    "\n",
    "load_dotenv()\n",
    "client = instructor.patch(OpenAI(api_key=os.getenv(\"OPENAI_API_KEY\")))\n"
   ]
  },
  {
   "cell_type": "code",
   "execution_count": 54,
   "metadata": {},
   "outputs": [
    {
     "name": "stdout",
     "output_type": "stream",
     "text": [
      "{'role': 'system', 'content': 'You are an assistant that helps users find sushi restaurants and parking spots in Munich. \\nWhen a user expresses interest in either sushi, parking, or both:\\n1. Use the set_user_interest function to record their preference\\n2. Provide relevant parking or restaurant information\\n3. ALWAYS respond with a natural language message summarizing the information for the user\\n'}\n",
      "{'role': 'user', 'content': 'I want to park my car'}\n"
     ]
    }
   ],
   "source": [
    "# Initialize conversation history\n",
    "messages_service = MessagesService()\n",
    "openai_model = \"gpt-3.5-turbo\"\n",
    "user_interest_enum = None\n",
    "\n",
    "# Initial system message\n",
    "system_prompt = \"\"\"You are an assistant that helps users find sushi restaurants and parking spots in Munich. \n",
    "When a user expresses interest in either sushi, parking, or both:\n",
    "1. Use the set_user_interest function to record their preference\n",
    "2. Provide relevant parking or restaurant information\n",
    "3. ALWAYS respond with a natural language message summarizing the information for the user\n",
    "\"\"\"\n",
    "\n",
    "messages_service.add_system_message(system_prompt)\n",
    "\n",
    "user_prompt = \"I want to park my car\"\n",
    "# user_prompt = input(\"eg. I am looking for a Sushi Restaurant in Munich.\")\n",
    "messages_service.add_user_message(user_prompt)\n",
    "\n",
    "messages_service.print_messages()"
   ]
  },
  {
   "cell_type": "code",
   "execution_count": 55,
   "metadata": {},
   "outputs": [],
   "source": [
    "from tools.user_interest_tools import UserInterest\n",
    "\n",
    "# Get user interest\n",
    "intent : UserInterest = client.chat.completions.create(\n",
    "    model=openai_model,\n",
    "    messages=messages_service.get_messages(),\n",
    "    response_model=UserInterest,\n",
    ")\n",
    "\n",
    "messages_service.add_assistant_message(intent.assistant_message)\n",
    "messages_service.add_function_message(UserInterest.__name__, intent.interest)\n",
    "\n",
    "user_interest_enum = intent.interest\n",
    "\n",
    "messages_service.print_messages()\n",
    "\n",
    "# from services.user_interest_service import get_user_interest\n",
    "# chosen_function = eval(message.tool_calls[0].function.name)\n",
    "# user_interest = chosen_function(interest)"
   ]
  },
  {
   "cell_type": "code",
   "execution_count": 51,
   "metadata": {},
   "outputs": [],
   "source": [
    "user_prompt = \"Where can I park my car?\"\n",
    "messages_service.add_user_message(user_prompt)"
   ]
  },
  {
   "cell_type": "code",
   "execution_count": 52,
   "metadata": {},
   "outputs": [
    {
     "name": "stdout",
     "output_type": "stream",
     "text": [
      "query_type='list_all' specific_spot_name=None duration_hours=None height_requirement=None location=None needs_disabled_access=None payment_method_preference=None response_detail='brief'\n"
     ]
    },
    {
     "ename": "AttributeError",
     "evalue": "'dict' object has no attribute 'recommendation'",
     "output_type": "error",
     "traceback": [
      "\u001b[0;31m---------------------------------------------------------------------------\u001b[0m",
      "\u001b[0;31mAttributeError\u001b[0m                            Traceback (most recent call last)",
      "Cell \u001b[0;32mIn[52], line 29\u001b[0m\n\u001b[1;32m     26\u001b[0m \u001b[38;5;66;03m# messages_service.add_function_message(response_model.__name__, intent)\u001b[39;00m\n\u001b[1;32m     28\u001b[0m result \u001b[38;5;241m=\u001b[39m intent_service\u001b[38;5;241m.\u001b[39mhandle_intent(intent)\n\u001b[0;32m---> 29\u001b[0m messages_service\u001b[38;5;241m.\u001b[39madd_assistant_message(\u001b[43mresult\u001b[49m\u001b[38;5;241;43m.\u001b[39;49m\u001b[43mrecommendation\u001b[49m)\n\u001b[1;32m     30\u001b[0m messages_service\u001b[38;5;241m.\u001b[39madd_function_message(response_model\u001b[38;5;241m.\u001b[39m\u001b[38;5;18m__name__\u001b[39m, result\u001b[38;5;241m.\u001b[39mget(\u001b[38;5;124m\"\u001b[39m\u001b[38;5;124mdata\u001b[39m\u001b[38;5;124m\"\u001b[39m))\n\u001b[1;32m     32\u001b[0m messages_service\u001b[38;5;241m.\u001b[39mprint_messages()\n",
      "\u001b[0;31mAttributeError\u001b[0m: 'dict' object has no attribute 'recommendation'"
     ]
    }
   ],
   "source": [
    "from enums.user_interest_enum import UserInterestEnum\n",
    "from services.parking_intent_service import ParkingIntentService\n",
    "from tools.parking_tools import UserParkingIntent\n",
    "# from tools.sushi_tools import UserSushiIntent\n",
    "\n",
    "intent_service = ParkingIntentService()\n",
    "response_model = UserParkingIntent # TODO: add sushi response model\n",
    "\n",
    "if user_interest_enum == UserInterestEnum.PARKING:\n",
    "    response_model = UserParkingIntent\n",
    "elif user_interest_enum == UserInterestEnum.SUSHI:\n",
    "    pass\n",
    "    # response_model = UserSushiIntent\n",
    "else:\n",
    "    pass\n",
    "    # response_model = UserParkingIntent + UserSushiIntent\n",
    "\n",
    "intent = client.chat.completions.create(\n",
    "    model=openai_model,\n",
    "    messages=messages_service.get_messages(),\n",
    "    response_model=response_model,\n",
    ")\n",
    "print(intent)\n",
    "\n",
    "messages_service.add_assistant_message(intent)\n",
    "# messages_service.add_function_message(response_model.__name__, intent)\n",
    "\n",
    "result = intent_service.handle_intent(intent)\n",
    "print(result)\n",
    "messages_service.add_assistant_message(result.recommendation)\n",
    "messages_service.add_function_message(response_model.__name__, result.get(\"data\"))\n",
    "\n",
    "messages_service.print_messages()\n",
    "\n",
    "\n",
    "\n",
    "# assistant_message = arguments.get(\"assistant_message\")\n",
    "# if assistant_message:\n",
    "#     messages_service.add_assistant_message(assistant_message)\n",
    "# messages_service.print_last_message()\n",
    "\n",
    "# function_call_service = FunctionCallService(messages_service)\n",
    "\n",
    "\n",
    "# message = completion.choices[0].message\n",
    "# print(message)\n",
    "\n",
    "\n",
    "# chosen_function = eval(message.tool_calls[0].function.name)\n",
    "# user_interest = chosen_function()\n",
    "\n",
    "\n",
    "# user_interest_json = dump_json_data(user_interest)\n",
    "# print(user_interest_json)\n",
    "\n",
    "# messages_service.add_function_message(message.tool_calls[0].function.name, user_interest_json)\n",
    "# messages_service.print_last_message()\n",
    "\n",
    "\n",
    "\n",
    "# feedback_completion = client.chat.completions.create(\n",
    "#     model=openai_model,\n",
    "#     messages=messages_service.get_messages(),\n",
    "#     tools=tools,\n",
    "# )\n",
    "\n",
    "# message = feedback_completion.choices[0].message\n",
    "# print(message)\n",
    "\n"
   ]
  },
  {
   "cell_type": "code",
   "execution_count": null,
   "metadata": {},
   "outputs": [],
   "source": []
  },
  {
   "cell_type": "code",
   "execution_count": 47,
   "metadata": {},
   "outputs": [],
   "source": [
    "# reset jupiter kernel\n",
    "%reset -f"
   ]
  }
 ],
 "metadata": {
  "kernelspec": {
   "display_name": ".venv",
   "language": "python",
   "name": "python3"
  },
  "language_info": {
   "codemirror_mode": {
    "name": "ipython",
    "version": 3
   },
   "file_extension": ".py",
   "mimetype": "text/x-python",
   "name": "python",
   "nbconvert_exporter": "python",
   "pygments_lexer": "ipython3",
   "version": "3.12.4"
  }
 },
 "nbformat": 4,
 "nbformat_minor": 2
}

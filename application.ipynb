{
 "cells": [
  {
   "cell_type": "code",
   "execution_count": 1,
   "metadata": {},
   "outputs": [],
   "source": [
    "import os\n",
    "import instructor\n",
    "from openai import OpenAI\n",
    "from dotenv import load_dotenv\n",
    "from src.services.core.messages_service import MessagesService\n",
    "\n",
    "load_dotenv()\n",
    "client = instructor.patch(OpenAI(api_key=os.getenv(\"OPENAI_API_KEY\")))"
   ]
  },
  {
   "cell_type": "code",
   "execution_count": 2,
   "metadata": {},
   "outputs": [
    {
     "name": "stdout",
     "output_type": "stream",
     "text": [
      "{'role': 'system', 'content': 'You are an assistant that helps users find sushi restaurants and parking spots in Munich. \\nWhen a user expresses interest in either sushi, parking, or both:\\n1. Use the set_user_interest function to record their preference\\n2. Provide relevant parking or restaurant information\\n3. ALWAYS respond with a natural language message summarizing the information for the user\\n'}\n",
      "{'role': 'user', 'content': 'Where can i get the cheapest sushi nearby?'}\n"
     ]
    }
   ],
   "source": [
    "# Initialize vars\n",
    "messages_service = MessagesService()\n",
    "openai_model = \"gpt-3.5-turbo\"\n",
    "user_interest_enum = None\n",
    "\n",
    "# Initial system message\n",
    "system_prompt = \"\"\"You are an assistant that helps users find sushi restaurants and parking spots in Munich. \n",
    "When a user expresses interest in either sushi, parking, or both:\n",
    "1. Use the set_user_interest function to record their preference\n",
    "2. Provide relevant parking or restaurant information\n",
    "3. ALWAYS respond with a natural language message summarizing the information for the user\n",
    "\"\"\"\n",
    "\n",
    "messages_service.add_system_message(system_prompt)\n",
    "\n",
    "user_prompt = \"Hey\" # Also responds to normal messages\n",
    "user_prompt = \"Tell a joke\"\n",
    "user_prompt = \"I want to eat sushi\"\n",
    "user_prompt = \"I want to park my car\"\n",
    "user_prompt = \"List all parking spots\"\n",
    "user_prompt = \"How can i pay for parking?\"\n",
    "user_prompt = \"Where can i get the cheapest sushi nearby?\"\n",
    "# user_prompt = input(\"eg. I am looking for a Sushi Restaurant in Munich.\")\n",
    "\n",
    "messages_service.add_user_message(user_prompt)\n",
    "messages_service.print_messages()"
   ]
  },
  {
   "cell_type": "markdown",
   "metadata": {},
   "source": [
    "### Choose user interest\n",
    "Based on user prompt, determine if user is interested in Chatting, Parking or Sushi"
   ]
  },
  {
   "cell_type": "code",
   "execution_count": 3,
   "metadata": {},
   "outputs": [
    {
     "name": "stdout",
     "output_type": "stream",
     "text": [
      "{'role': 'system', 'content': 'You are an assistant that helps users find sushi restaurants and parking spots in Munich. \\nWhen a user expresses interest in either sushi, parking, or both:\\n1. Use the set_user_interest function to record their preference\\n2. Provide relevant parking or restaurant information\\n3. ALWAYS respond with a natural language message summarizing the information for the user\\n'}\n",
      "{'role': 'user', 'content': 'Where can i get the cheapest sushi nearby?'}\n",
      "{'role': 'function', 'name': 'UserInterestIntent', 'content': <UserInterestEnum.SUSHI: 'SUSHI'>}\n"
     ]
    }
   ],
   "source": [
    "from src.models.intent.user_interest_intent import UserInterestIntent\n",
    "\n",
    "# Get user interest\n",
    "intent : UserInterestIntent = client.chat.completions.create(\n",
    "    model=openai_model,\n",
    "    messages=messages_service.get_messages(),\n",
    "    response_model=UserInterestIntent,\n",
    ")\n",
    "\n",
    "messages_service.add_function_message(UserInterestIntent.__name__, intent.interest)\n",
    "\n",
    "user_interest_enum = intent.interest\n",
    "\n",
    "messages_service.print_messages()"
   ]
  },
  {
   "cell_type": "markdown",
   "metadata": {},
   "source": [
    "### Choose response format based on user intend and handle intent\n",
    "Its either Parking or Sushi"
   ]
  },
  {
   "cell_type": "code",
   "execution_count": 4,
   "metadata": {},
   "outputs": [
    {
     "name": "stdout",
     "output_type": "stream",
     "text": [
      "{'role': 'function', 'name': 'UserInterestIntent', 'content': <UserInterestEnum.SUSHI: 'SUSHI'>}\n",
      "{'role': 'function', 'name': 'UserSushiIntent', 'content': '{\"query_types\":[\"nearby\",\"price_check\"],\"specific_restaurant_name\":null,\"location\":null,\"response_detail\":\"brief\"}'}\n",
      "{'role': 'function', 'name': 'handle_intent', 'content': '{\"data\":{\"price\":[{\"title\":\"Sasou\",\"data\":{\"priceRangeLevel\":\"3 out of 5\",\"free\":false}},{\"title\":\"Galeria Restaurant\",\"data\":{\"priceRangeLevel\":\"1 out of 5\",\"free\":false}},{\"title\":\"Shaokao Asian Grill&Wine\",\"data\":{\"priceRangeLevel\":null,\"free\":false}},{\"title\":\"Secret Garden\",\"data\":{\"priceRangeLevel\":null,\"free\":false}}],\"nearby\":[{\"title\":\"Sasou\",\"data\":{\"distance_from_current_location\":\"65.29277618006775 meters\",\"duration_from_current_location\":null}},{\"title\":\"Galeria Restaurant\",\"data\":{\"distance_from_current_location\":\"200 meters\",\"duration_from_current_location\":\"1 minute\"}},{\"title\":\"Shaokao Asian Grill&Wine\",\"data\":{\"distance_from_current_location\":\"200 meters\",\"duration_from_current_location\":\"7 minutes\"}},{\"title\":\"Secret Garden\",\"data\":{\"distance_from_current_location\":\"300 meters\",\"duration_from_current_location\":\"10 minutes\"}}]}}'}\n"
     ]
    }
   ],
   "source": [
    "from src.services.user.user_interest_service import get_user_interest\n",
    "\n",
    "response_model, intent_service = get_user_interest(user_interest_enum)\n",
    "\n",
    "intent = client.chat.completions.create(\n",
    "    model=openai_model,\n",
    "    messages=messages_service.get_messages(),\n",
    "    response_model=response_model,\n",
    ")\n",
    "\n",
    "messages_service.print_last_message()\n",
    "messages_service.add_function_message(intent.__class__.__name__, intent)\n",
    "messages_service.print_last_message()\n",
    "\n",
    "if intent_service is not None:\n",
    "    result = intent_service.handle_intent(intent)\n",
    "    messages_service.add_function_message(intent_service.handle_intent.__name__, result)\n",
    "    messages_service.print_last_message()"
   ]
  },
  {
   "cell_type": "markdown",
   "metadata": {},
   "source": [
    "### Generate final response\n",
    "Summarize the result and return it as a natural language message"
   ]
  },
  {
   "cell_type": "code",
   "execution_count": 5,
   "metadata": {},
   "outputs": [
    {
     "name": "stdout",
     "output_type": "stream",
     "text": [
      "{'role': 'assistant', 'content': 'The cheapest sushi nearby can be found at Galeria Restaurant. It is located 200 meters away, around a 1-minute walk from your current location.'}\n"
     ]
    }
   ],
   "source": [
    "from src.models.intent.assistant_model import AssistantModel\n",
    "\n",
    "response : AssistantModel = client.chat.completions.create(\n",
    "    model=openai_model,\n",
    "    messages=messages_service.get_messages(),\n",
    "    response_model=AssistantModel,\n",
    ")\n",
    "\n",
    "messages_service.add_assistant_message(response.assistant_message)\n",
    "messages_service.print_last_message()"
   ]
  },
  {
   "cell_type": "markdown",
   "metadata": {},
   "source": [
    "### Use it like a chat"
   ]
  },
  {
   "cell_type": "code",
   "execution_count": 6,
   "metadata": {},
   "outputs": [
    {
     "name": "stdout",
     "output_type": "stream",
     "text": [
      "{'role': 'user', 'content': 'nice, where can i park cheapest?'}\n",
      "{'role': 'function', 'name': 'UserInterestIntent', 'content': <UserInterestEnum.PARKING: 'PARKING'>}\n",
      "{'role': 'function', 'name': 'UserParkingIntent', 'content': '{\"query_types\":[\"cheapest\",\"nearby\"],\"specific_spot_name\":null,\"duration_hours\":null,\"height_requirement\":null,\"location\":null,\"needs_disabled_access\":null,\"payment_method_preference\":null,\"response_detail\":\"brief\"}'}\n",
      "{'role': 'function', 'name': 'handle_intent', 'content': '{\"data\":{\"cheapest\":[\"City\",{\"priceSummaryText\":\"6.00 € / 2h\",\"free\":false},{\"listPrices\":[{\"service\":\"PARKING\",\"price\":\"Open 24 hours: 3.00 € / 1 hour\"},{\"service\":\"PARKING\",\"price\":\"Open 24 hours: 6.00 € / 2 hours\"},{\"service\":\"PARKING\",\"price\":\"Open 24 hours: 9.00 € / 3 hours\"},{\"service\":\"PARKING\",\"price\":\"Open 24 hours: 12.00 € / 4 hours\"},{\"service\":\"PARKING\",\"price\":\"Open 24 hours: 15.00 € / 5 hours\"},{\"service\":\"PARKING\",\"price\":\"Open 24 hours: 18.00 € / 6 hours\"},{\"service\":\"PARKING\",\"price\":\"Open 24 hours: 21.00 € / 7 hours\"},{\"service\":\"PARKING\",\"price\":\"Open 24 hours: 24.00 € / 24 hours\"}]}],\"nearby\":[[\"Marienplatz\",{\"lat\":48.136303966,\"lng\":11.57466799},\"200 meters\"],[\"City\",{\"lat\":48.137116173,\"lng\":11.571689397},\"300 meters\"],[\"Platzl Hotel München\",{\"lat\":48.138232209,\"lng\":11.579035968},\"300 meters\"]]}}'}\n",
      "{'role': 'assistant', 'content': 'For the cheapest parking option, you can park at City parking lot, which costs 6.00 € for 2 hours. It is located 300 meters away from your current location.'}\n",
      "{'role': 'user', 'content': 'where can disabled people park?'}\n",
      "{'role': 'function', 'name': 'UserInterestIntent', 'content': <UserInterestEnum.PARKING: 'PARKING'>}\n",
      "{'role': 'function', 'name': 'UserParkingIntent', 'content': '{\"query_types\":[\"availability\"],\"specific_spot_name\":null,\"duration_hours\":null,\"height_requirement\":null,\"location\":null,\"needs_disabled_access\":true,\"payment_method_preference\":null,\"response_detail\":\"brief\"}'}\n",
      "{'role': 'function', 'name': 'handle_intent', 'content': '{\"data\":{\"available\":[[\"Marienplatz\",{\"spotsNumber\":265,\"freeSpotsNumber\":63,\"disabledSpotsNumber\":2,\"parkingDimensionRestriction\":{\"height\":1.8,\"width\":2.3},\"services\":[\"DISABLED\"],\"types\":[\"PCOV\"],\"operator\":\"Contipark Parkgaragengesellschaft mbH\"}]]}}'}\n",
      "{'role': 'assistant', 'content': 'Disabled parking spots are available at Marienplatz with 2 dedicated disabled spots out of a total of 265 spots.'}\n"
     ]
    }
   ],
   "source": [
    "from src.models.intent.user_interest_intent import UserInterestIntent\n",
    "\n",
    "for i in range(2):\n",
    "    \n",
    "    # get user input\n",
    "    user_prompt = input(\"User: \")\n",
    "    messages_service.add_user_message(user_prompt)\n",
    "    messages_service.print_last_message()\n",
    "\n",
    "    # Get user interest\n",
    "    interest_intent: UserInterestIntent = client.chat.completions.create(\n",
    "        model=openai_model,\n",
    "        messages=messages_service.get_messages(),\n",
    "        response_model=UserInterestIntent,\n",
    "    )\n",
    "\n",
    "    messages_service.add_function_message(UserInterestIntent.__name__, interest_intent.interest)\n",
    "    messages_service.print_last_message()\n",
    "    \n",
    "    # Get appropriate response model and service based on user interest\n",
    "    response_model, intent_service = get_user_interest(interest_intent.interest)\n",
    "\n",
    "    # Get specific intent (sushi or parking or chatting)\n",
    "    intent = client.chat.completions.create(\n",
    "        model=openai_model,\n",
    "        messages=messages_service.get_messages(),\n",
    "        response_model=response_model,\n",
    "    )\n",
    "\n",
    "\n",
    "    # If not a assistance intent, handle intent and get result\n",
    "    if intent_service is not None:\n",
    "        messages_service.add_function_message(intent.__class__.__name__, intent)\n",
    "        messages_service.print_last_message()\n",
    "        result = intent_service.handle_intent(intent)\n",
    "        messages_service.add_function_message(intent_service.handle_intent.__name__, result)\n",
    "        messages_service.print_last_message()\n",
    "\n",
    "        # llm generates final response based on intent and result\n",
    "        response = client.chat.completions.create(\n",
    "            model=openai_model,\n",
    "            messages=messages_service.get_messages(),\n",
    "            response_model=AssistantModel,\n",
    "        )\n",
    "\n",
    "        messages_service.add_assistant_message(response.assistant_message)\n",
    "        messages_service.print_last_message()\n",
    "        continue\n",
    "    \n",
    "    messages_service.add_assistant_message(intent.assistant_message)\n",
    "    messages_service.print_last_message()\n"
   ]
  },
  {
   "cell_type": "code",
   "execution_count": 7,
   "metadata": {},
   "outputs": [],
   "source": [
    "# reset jupiter kernel\n",
    "# %reset -f"
   ]
  },
  {
   "cell_type": "code",
   "execution_count": null,
   "metadata": {},
   "outputs": [],
   "source": []
  }
 ],
 "metadata": {
  "kernelspec": {
   "display_name": ".venv",
   "language": "python",
   "name": "python3"
  },
  "language_info": {
   "codemirror_mode": {
    "name": "ipython",
    "version": 3
   },
   "file_extension": ".py",
   "mimetype": "text/x-python",
   "name": "python",
   "nbconvert_exporter": "python",
   "pygments_lexer": "ipython3",
   "version": "3.12.4"
  }
 },
 "nbformat": 4,
 "nbformat_minor": 2
}

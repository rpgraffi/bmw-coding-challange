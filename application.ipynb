{
 "cells": [
  {
   "cell_type": "code",
   "execution_count": 1,
   "metadata": {},
   "outputs": [],
   "source": [
    "import os\n",
    "import json\n",
    "from openai import OpenAI\n",
    "from datetime import datetime, timedelta\n",
    "from dotenv import load_dotenv\n",
    "from core.messages_service import MessagesService\n",
    "from core.json_service import dump_json_data\n",
    "\n",
    "load_dotenv()\n",
    "client = OpenAI(api_key=os.getenv(\"OPENAI_API_KEY\"))"
   ]
  },
  {
   "cell_type": "code",
   "execution_count": 2,
   "metadata": {},
   "outputs": [
    {
     "name": "stdout",
     "output_type": "stream",
     "text": [
      "{'role': 'system', 'content': \"You are an assistant that helps users find sushi restaurants and parking spots in Munich. \\nWhen a user expresses interest in either sushi, parking, or both:\\n1. Use the set_user_interest function to record their preference\\n2. Provide relevant parking or restaurant information\\n3. ALWAYS respond with a natural language message summarizing the information for the user\\n\\nExample response: 'Here are some parking spots near your location: Marienplatz, City, and Platzl Hotel München. Let me know if you need directions to any of these!'\"}\n",
      "{'role': 'user', 'content': 'I want to park my car'}\n"
     ]
    }
   ],
   "source": [
    "# Initialize conversation history\n",
    "messages_service = MessagesService()\n",
    "openai_model = \"gpt-3.5-turbo\"\n",
    "user_interest_enum = None\n",
    "\n",
    "# Initial system message\n",
    "system_prompt = \"\"\"You are an assistant that helps users find sushi restaurants and parking spots in Munich. \n",
    "When a user expresses interest in either sushi, parking, or both:\n",
    "1. Use the set_user_interest function to record their preference\n",
    "2. Provide relevant parking or restaurant information\n",
    "3. ALWAYS respond with a natural language message summarizing the information for the user\n",
    "\n",
    "Example response: 'Here are some parking spots near your location: Marienplatz, City, and Platzl Hotel München. Let me know if you need directions to any of these!'\"\"\"\n",
    "\n",
    "messages_service.add_system_message(system_prompt)\n",
    "\n",
    "user_prompt = \"I want to park my car\"\n",
    "# user_prompt = input(\"eg. I am looking for a Sushi Restaurant in Munich.\")\n",
    "messages_service.add_user_message(user_prompt)\n",
    "\n",
    "messages_service.print_messages()"
   ]
  },
  {
   "cell_type": "code",
   "execution_count": 3,
   "metadata": {},
   "outputs": [],
   "source": [
    "from tools.user_interest_tools import user_interest_tools\n",
    "from tools.parking_tools import parking_tools\n",
    "from tools.sushi_tools import sushi_tools"
   ]
  },
  {
   "cell_type": "code",
   "execution_count": 4,
   "metadata": {},
   "outputs": [],
   "source": [
    "tool_choice = {\n",
    "    \"type\": \"function\",\n",
    "    \"function\": {\"name\": \"get_user_interest\"}\n",
    "}"
   ]
  },
  {
   "cell_type": "code",
   "execution_count": 5,
   "metadata": {},
   "outputs": [
    {
     "name": "stdout",
     "output_type": "stream",
     "text": [
      "ChatCompletionMessage(content=None, refusal=None, role='assistant', audio=None, function_call=None, tool_calls=[ChatCompletionMessageToolCall(id='call_AxxNuTW9d49UM8A7pzSno8Du', function=Function(arguments='{\"interest\":\"PARKING\",\"assistant_message\":\"Sure, I can help you find parking spots. Where are you located in Munich?\"}', name='get_user_interest'), type='function')])\n",
      "{'role': 'assistant', 'content': 'Sure, I can help you find parking spots. Where are you located in Munich?'}\n",
      "PARKING\n",
      "[{\"parking\": [\"Marienplatz\", \"City\", \"Platzl Hotel München\"]}]\n",
      "{'role': 'function', 'name': 'get_user_interest', 'content': '[{\"parking\": [\"Marienplatz\", \"City\", \"Platzl Hotel München\"]}]'}\n"
     ]
    }
   ],
   "source": [
    "# Get user interest\n",
    "completion = client.chat.completions.create(\n",
    "    model=openai_model,\n",
    "    messages=messages_service.get_messages(),\n",
    "    tool_choice=tool_choice,\n",
    "    tools=user_interest_tools,\n",
    ")\n",
    "\n",
    "# The json.loads function converts the string to a Python object\n",
    "\n",
    "from enums.user_interest_enum import UserInterest\n",
    "from services.user_interest_service import get_user_interest\n",
    "\n",
    "message = completion.choices[0].message\n",
    "print(message)\n",
    "arguments = json.loads(message.tool_calls[0].function.arguments)\n",
    "\n",
    "# Add the assistant's natural language response to the conversation\n",
    "assistant_message = arguments.get(\"assistant_message\")\n",
    "if assistant_message:\n",
    "    messages_service.add_assistant_message(assistant_message)\n",
    "messages_service.print_last_message()\n",
    "\n",
    "\n",
    "# Get the user's interest\n",
    "interest = arguments.get(\"interest\")\n",
    "print(interest)\n",
    "user_interest_enum = UserInterest(interest)\n",
    "\n",
    "chosen_function = eval(message.tool_calls[0].function.name)\n",
    "user_interest = chosen_function(interest)\n",
    "\n",
    "\n",
    "user_interest_json = dump_json_data(user_interest)\n",
    "print(user_interest_json)\n",
    "\n",
    "messages_service.add_function_message(message.tool_calls[0].function.name, user_interest_json)\n",
    "messages_service.print_last_message()"
   ]
  },
  {
   "cell_type": "code",
   "execution_count": 6,
   "metadata": {},
   "outputs": [],
   "source": [
    "user_prompt = \"What is the cheapest parking spot near me?\"\n",
    "messages_service.add_user_message(user_prompt)"
   ]
  },
  {
   "cell_type": "code",
   "execution_count": 7,
   "metadata": {},
   "outputs": [
    {
     "name": "stdout",
     "output_type": "stream",
     "text": [
      "{'role': 'assistant', 'content': 'Sure, I can help you find parking spots. Where are you located in Munich?'}\n",
      "ChatCompletionMessage(content=None, refusal=None, role='assistant', audio=None, function_call=None, tool_calls=[ChatCompletionMessageToolCall(id='call_UyFTOBxffiYE72SREHVieejw', function=Function(arguments='{}', name='get_cheapest_spots'), type='function')])\n",
      "[\"City\", {\"priceSummaryText\": \"6.00 € / 2h\", \"free\": false}, {\"listPrices\": [{\"service\": \"PARKING\", \"price\": \"Open 24 hours: 3.00 € / 1 hour\"}, {\"service\": \"PARKING\", \"price\": \"Open 24 hours: 6.00 € / 2 hours\"}, {\"service\": \"PARKING\", \"price\": \"Open 24 hours: 9.00 € / 3 hours\"}, {\"service\": \"PARKING\", \"price\": \"Open 24 hours: 12.00 € / 4 hours\"}, {\"service\": \"PARKING\", \"price\": \"Open 24 hours: 15.00 € / 5 hours\"}, {\"service\": \"PARKING\", \"price\": \"Open 24 hours: 18.00 € / 6 hours\"}, {\"service\": \"PARKING\", \"price\": \"Open 24 hours: 21.00 € / 7 hours\"}, {\"service\": \"PARKING\", \"price\": \"Open 24 hours: 24.00 € / 24 hours\"}]}]\n",
      "{'role': 'function', 'name': 'get_cheapest_spots', 'content': '[\"City\", {\"priceSummaryText\": \"6.00 € / 2h\", \"free\": false}, {\"listPrices\": [{\"service\": \"PARKING\", \"price\": \"Open 24 hours: 3.00 € / 1 hour\"}, {\"service\": \"PARKING\", \"price\": \"Open 24 hours: 6.00 € / 2 hours\"}, {\"service\": \"PARKING\", \"price\": \"Open 24 hours: 9.00 € / 3 hours\"}, {\"service\": \"PARKING\", \"price\": \"Open 24 hours: 12.00 € / 4 hours\"}, {\"service\": \"PARKING\", \"price\": \"Open 24 hours: 15.00 € / 5 hours\"}, {\"service\": \"PARKING\", \"price\": \"Open 24 hours: 18.00 € / 6 hours\"}, {\"service\": \"PARKING\", \"price\": \"Open 24 hours: 21.00 € / 7 hours\"}, {\"service\": \"PARKING\", \"price\": \"Open 24 hours: 24.00 € / 24 hours\"}]}]'}\n",
      "ChatCompletionMessage(content='The cheapest parking spot near you is at City. The rate is 6.00 € for 2 hours. Let me know if you need directions to City!', refusal=None, role='assistant', audio=None, function_call=None, tool_calls=None)\n"
     ]
    }
   ],
   "source": [
    "from services.function_call_service import FunctionCallService\n",
    "from services.parking_service import get_cheapest_spots\n",
    "\n",
    "if user_interest_enum == UserInterest.PARKING:\n",
    "    tools = parking_tools\n",
    "elif user_interest_enum == UserInterest.SUSHI:\n",
    "    tools = sushi_tools\n",
    "else:\n",
    "    tools = parking_tools + sushi_tools\n",
    "\n",
    "completion = client.chat.completions.create(\n",
    "    model=openai_model,\n",
    "    messages=messages_service.get_messages(),\n",
    "    tools=tools,\n",
    "    tool_choice=\"auto\",\n",
    ")\n",
    "assistant_message = arguments.get(\"assistant_message\")\n",
    "if assistant_message:\n",
    "    messages_service.add_assistant_message(assistant_message)\n",
    "messages_service.print_last_message()\n",
    "\n",
    "function_call_service = FunctionCallService(messages_service)\n",
    "\n",
    "\n",
    "message = completion.choices[0].message\n",
    "print(message)\n",
    "\n",
    "\n",
    "chosen_function = eval(message.tool_calls[0].function.name)\n",
    "user_interest = chosen_function()\n",
    "\n",
    "\n",
    "user_interest_json = dump_json_data(user_interest)\n",
    "print(user_interest_json)\n",
    "\n",
    "messages_service.add_function_message(message.tool_calls[0].function.name, user_interest_json)\n",
    "messages_service.print_last_message()\n",
    "\n",
    "\n",
    "\n",
    "feedback_completion = client.chat.completions.create(\n",
    "    model=openai_model,\n",
    "    messages=messages_service.get_messages(),\n",
    "    tools=tools,\n",
    ")\n",
    "\n",
    "message = feedback_completion.choices[0].message\n",
    "print(message)\n",
    "\n"
   ]
  },
  {
   "cell_type": "code",
   "execution_count": 8,
   "metadata": {},
   "outputs": [],
   "source": [
    "# reset jupiter kernel\n",
    "%reset -f"
   ]
  }
 ],
 "metadata": {
  "kernelspec": {
   "display_name": ".venv",
   "language": "python",
   "name": "python3"
  },
  "language_info": {
   "codemirror_mode": {
    "name": "ipython",
    "version": 3
   },
   "file_extension": ".py",
   "mimetype": "text/x-python",
   "name": "python",
   "nbconvert_exporter": "python",
   "pygments_lexer": "ipython3",
   "version": "3.12.4"
  }
 },
 "nbformat": 4,
 "nbformat_minor": 2
}

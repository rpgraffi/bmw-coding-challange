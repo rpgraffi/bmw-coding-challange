{
 "cells": [
  {
   "cell_type": "code",
   "execution_count": 1,
   "metadata": {},
   "outputs": [],
   "source": [
    "import os\n",
    "import instructor\n",
    "from openai import OpenAI\n",
    "from dotenv import load_dotenv\n",
    "from services.messages_service import MessagesService\n",
    "\n",
    "load_dotenv()\n",
    "client = instructor.patch(OpenAI(api_key=os.getenv(\"OPENAI_API_KEY\")))"
   ]
  },
  {
   "cell_type": "code",
   "execution_count": 2,
   "metadata": {},
   "outputs": [
    {
     "name": "stdout",
     "output_type": "stream",
     "text": [
      "{'role': 'system', 'content': 'You are an assistant that helps users find sushi restaurants and parking spots in Munich. \\nWhen a user expresses interest in either sushi, parking, or both:\\n1. Use the set_user_interest function to record their preference\\n2. Provide relevant parking or restaurant information\\n3. ALWAYS respond with a natural language message summarizing the information for the user\\n'}\n",
      "{'role': 'user', 'content': 'I want to park my car'}\n"
     ]
    }
   ],
   "source": [
    "# Initialize vars\n",
    "messages_service = MessagesService()\n",
    "openai_model = \"gpt-3.5-turbo\"\n",
    "user_interest_enum = None\n",
    "\n",
    "# Initial system message\n",
    "system_prompt = \"\"\"You are an assistant that helps users find sushi restaurants and parking spots in Munich. \n",
    "When a user expresses interest in either sushi, parking, or both:\n",
    "1. Use the set_user_interest function to record their preference\n",
    "2. Provide relevant parking or restaurant information\n",
    "3. ALWAYS respond with a natural language message summarizing the information for the user\n",
    "\"\"\"\n",
    "\n",
    "messages_service.add_system_message(system_prompt)\n",
    "\n",
    "user_prompt = \"I want to park my car\"\n",
    "# user_prompt = input(\"eg. I am looking for a Sushi Restaurant in Munich.\")\n",
    "messages_service.add_user_message(user_prompt)\n",
    "\n",
    "messages_service.print_messages()"
   ]
  },
  {
   "cell_type": "code",
   "execution_count": 3,
   "metadata": {},
   "outputs": [
    {
     "name": "stdout",
     "output_type": "stream",
     "text": [
      "{'role': 'system', 'content': 'You are an assistant that helps users find sushi restaurants and parking spots in Munich. \\nWhen a user expresses interest in either sushi, parking, or both:\\n1. Use the set_user_interest function to record their preference\\n2. Provide relevant parking or restaurant information\\n3. ALWAYS respond with a natural language message summarizing the information for the user\\n'}\n",
      "{'role': 'user', 'content': 'I want to park my car'}\n",
      "{'role': 'assistant', 'content': 'Sure, I will help you find parking spots in Munich.'}\n",
      "{'role': 'function', 'name': 'UserInterest', 'content': <UserInterestEnum.PARKING: 'PARKING'>}\n"
     ]
    }
   ],
   "source": [
    "from models.intent.user_interest_intent import UserInterest\n",
    "\n",
    "# Get user interest\n",
    "intent : UserInterest = client.chat.completions.create(\n",
    "    model=openai_model,\n",
    "    messages=messages_service.get_messages(),\n",
    "    response_model=UserInterest,\n",
    ")\n",
    "\n",
    "messages_service.add_assistant_message(intent.assistant_message)\n",
    "messages_service.add_function_message(UserInterest.__name__, intent.interest)\n",
    "\n",
    "user_interest_enum = intent.interest\n",
    "\n",
    "messages_service.print_messages()"
   ]
  },
  {
   "cell_type": "code",
   "execution_count": 4,
   "metadata": {},
   "outputs": [],
   "source": [
    "# user_prompt = \"List all parking spots\"\n",
    "user_prompt = \"How can i pay for parking?\"\n",
    "messages_service.add_user_message(user_prompt)"
   ]
  },
  {
   "cell_type": "markdown",
   "metadata": {},
   "source": [
    "### Choose response format based on user intend\n",
    "Its either Parking or Sushi"
   ]
  },
  {
   "cell_type": "code",
   "execution_count": 5,
   "metadata": {},
   "outputs": [
    {
     "name": "stdout",
     "output_type": "stream",
     "text": [
      "{'role': 'assistant', 'content': 'User is asking about payment methods for parking'}\n",
      "{'role': 'function', 'name': 'UserParkingIntent', 'content': '{\"assistant_message\":\"User is asking about payment methods for parking\",\"query_types\":[\"payment_info\"],\"specific_spot_name\":null,\"duration_hours\":null,\"height_requirement\":null,\"location\":null,\"needs_disabled_access\":null,\"payment_method_preference\":null,\"response_detail\":\"detailed\"}'}\n",
      "{'role': 'function', 'name': 'handle_intent', 'content': '{\"data\":{\"payment_methods\":[[\"CREDIT_CARD_VISA\",\"CASH\",\"CREDIT_CARD_AMEX\",\"DEBIT_MAESTRO\",\"CREDIT_CARD_MASTER\"],[\"CREDIT_CARD_VISA\",\"CASH\",\"CREDIT_CARD_MASTER\"],[\"CASH\"]]}}'}\n"
     ]
    }
   ],
   "source": [
    "from services.user_interest_service import get_user_interest\n",
    "\n",
    "response_model, intent_service = get_user_interest(user_interest_enum)\n",
    "\n",
    "intent = client.chat.completions.create(\n",
    "    model=openai_model,\n",
    "    messages=messages_service.get_messages(),\n",
    "    response_model=response_model,\n",
    ")\n",
    "\n",
    "messages_service.add_assistant_message(intent.assistant_message)\n",
    "messages_service.print_last_message()\n",
    "messages_service.add_function_message(intent.__class__.__name__, intent)\n",
    "messages_service.print_last_message()\n",
    "\n",
    "result = intent_service.handle_intent(intent)\n",
    "messages_service.add_function_message(intent_service.handle_intent.__name__, result)\n",
    "messages_service.print_last_message()"
   ]
  },
  {
   "cell_type": "code",
   "execution_count": 6,
   "metadata": {},
   "outputs": [
    {
     "name": "stdout",
     "output_type": "stream",
     "text": [
      "{'role': 'assistant', 'content': 'You can pay for parking in Munich using various methods including credit cards (Visa, Amex, Mastercard), debit cards (Maestro), and cash depending on the parking spot. Some spots accept all methods while others may only accept cash. Make sure to have the appropriate payment method ready.'}\n"
     ]
    }
   ],
   "source": [
    "from models.intent.assistant_model import AssistantModel\n",
    "\n",
    "response : AssistantModel = client.chat.completions.create(\n",
    "    model=openai_model,\n",
    "    messages=messages_service.get_messages(),\n",
    "    response_model=AssistantModel,\n",
    ")\n",
    "\n",
    "messages_service.add_assistant_message(response.assistant_message)\n",
    "messages_service.print_last_message()"
   ]
  },
  {
   "cell_type": "markdown",
   "metadata": {},
   "source": [
    "### Use it like a chat"
   ]
  },
  {
   "cell_type": "code",
   "execution_count": 7,
   "metadata": {},
   "outputs": [
    {
     "name": "stdout",
     "output_type": "stream",
     "text": [
      "{'role': 'user', 'content': ''}\n",
      "{'role': 'assistant', 'content': 'User is interested in parking'}\n",
      "{'role': 'function', 'name': 'UserInterest', 'content': <UserInterestEnum.PARKING: 'PARKING'>}\n",
      "{'role': 'function', 'name': 'UserParkingIntent', 'content': '{\"assistant_message\":\"User is interested in parking\",\"query_types\":[\"list_all\"],\"specific_spot_name\":null,\"duration_hours\":null,\"height_requirement\":null,\"location\":null,\"needs_disabled_access\":null,\"payment_method_preference\":null,\"response_detail\":\"brief\"}'}\n",
      "{'role': 'function', 'name': 'handle_intent', 'content': '{\"data\":{\"all_spots\":[\"Marienplatz\",\"City\",\"Platzl Hotel München\"]}}'}\n",
      "{'role': 'assistant', 'content': 'There are parking spots available in Munich including Marienplatz, City, and Platzl Hotel München.'}\n",
      "{'role': 'user', 'content': 'how many spots dou you think will still beavailable around 7:00'}\n",
      "{'role': 'assistant', 'content': 'User is inquiring about the availability of parking spots around 7:00'}\n",
      "{'role': 'function', 'name': 'UserInterest', 'content': <UserInterestEnum.PARKING: 'PARKING'>}\n",
      "{'role': 'function', 'name': 'UserParkingIntent', 'content': '{\"assistant_message\":\"User is inquiring about the availability of parking spots around 7:00\",\"query_types\":[\"availability\"],\"specific_spot_name\":null,\"duration_hours\":null,\"height_requirement\":null,\"location\":null,\"needs_disabled_access\":null,\"payment_method_preference\":null,\"response_detail\":\"brief\"}'}\n",
      "{'role': 'function', 'name': 'handle_intent', 'content': '{\"data\":{\"available\":[[\"Marienplatz\",{\"spotsNumber\":265,\"freeSpotsNumber\":63,\"disabledSpotsNumber\":2,\"parkingDimensionRestriction\":{\"height\":1.8,\"width\":2.3},\"services\":[\"DISABLED\"],\"types\":[\"PCOV\"],\"operator\":\"Contipark Parkgaragengesellschaft mbH\"}]]}}'}\n",
      "{'role': 'assistant', 'content': 'There are parking spots available at Marienplatz around 7:00. There are 63 free spots out of 265 total spots, with 2 disabled spots available.'}\n",
      "{'role': 'user', 'content': ''}\n",
      "{'role': 'assistant', 'content': 'User is interested in parking'}\n",
      "{'role': 'function', 'name': 'UserInterest', 'content': <UserInterestEnum.PARKING: 'PARKING'>}\n",
      "{'role': 'function', 'name': 'UserParkingIntent', 'content': '{\"assistant_message\":\"User is interested in parking\",\"query_types\":[\"list_all\"],\"specific_spot_name\":null,\"duration_hours\":null,\"height_requirement\":null,\"location\":null,\"needs_disabled_access\":null,\"payment_method_preference\":null,\"response_detail\":\"brief\"}'}\n",
      "{'role': 'function', 'name': 'handle_intent', 'content': '{\"data\":{\"all_spots\":[\"Marienplatz\",\"City\",\"Platzl Hotel München\"]}}'}\n"
     ]
    }
   ],
   "source": [
    "from models.intent.user_interest_intent import UserInterest\n",
    "\n",
    "for i in range(2):\n",
    "    \n",
    "    # get user input\n",
    "    user_prompt = input(\"User: \")\n",
    "    messages_service.add_user_message(user_prompt)\n",
    "    messages_service.print_last_message()\n",
    "\n",
    "\n",
    "    # Get user interest each time to shrink down the response models\n",
    "    intent : UserInterest = client.chat.completions.create(\n",
    "        model=openai_model,\n",
    "        messages=messages_service.get_messages(),\n",
    "        response_model=UserInterest,\n",
    "    )\n",
    "\n",
    "    messages_service.add_assistant_message(intent.assistant_message)\n",
    "    messages_service.print_last_message()\n",
    "    messages_service.add_function_message(UserInterest.__name__, intent.interest)\n",
    "    messages_service.print_last_message()\n",
    "\n",
    "    user_interest_enum = intent.interest\n",
    "    response_model, intent_service = get_user_interest(user_interest_enum)\n",
    "\n",
    "    # get user intent\n",
    "    intent = client.chat.completions.create(\n",
    "        model=openai_model,\n",
    "        messages=messages_service.get_messages(),\n",
    "        response_model=response_model,\n",
    "    )\n",
    "\n",
    "    messages_service.add_function_message(intent.__class__.__name__, intent)\n",
    "    messages_service.print_last_message()\n",
    "\n",
    "    \n",
    "    # handle intent\n",
    "    if not isinstance(intent_service, AssistantModel):\n",
    "        result = intent_service.handle_intent(intent)\n",
    "        messages_service.add_function_message(intent_service.handle_intent.__name__, result)\n",
    "        messages_service.print_last_message()\n",
    "\n",
    "        # Assistant help to summarize the data\n",
    "        response = client.chat.completions.create(\n",
    "            model=openai_model,\n",
    "            messages=messages_service.get_messages(),\n",
    "            response_model=AssistantModel,\n",
    "        )\n",
    "\n",
    "        messages_service.add_assistant_message(response.assistant_message)\n",
    "        messages_service.print_last_message()\n"
   ]
  },
  {
   "cell_type": "code",
   "execution_count": 8,
   "metadata": {},
   "outputs": [],
   "source": [
    "# reset jupiter kernel\n",
    "# %reset -f"
   ]
  },
  {
   "cell_type": "code",
   "execution_count": null,
   "metadata": {},
   "outputs": [],
   "source": []
  }
 ],
 "metadata": {
  "kernelspec": {
   "display_name": ".venv",
   "language": "python",
   "name": "python3"
  },
  "language_info": {
   "codemirror_mode": {
    "name": "ipython",
    "version": 3
   },
   "file_extension": ".py",
   "mimetype": "text/x-python",
   "name": "python",
   "nbconvert_exporter": "python",
   "pygments_lexer": "ipython3",
   "version": "3.12.4"
  }
 },
 "nbformat": 4,
 "nbformat_minor": 2
}

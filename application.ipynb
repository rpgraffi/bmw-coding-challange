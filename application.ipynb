{
 "cells": [
  {
   "cell_type": "code",
   "execution_count": 15,
   "metadata": {},
   "outputs": [],
   "source": [
    "import os\n",
    "import json\n",
    "from openai import OpenAI\n",
    "from datetime import datetime, timedelta\n",
    "from dotenv import load_dotenv\n",
    "from core.messages_service import MessagesService\n",
    "\n",
    "load_dotenv()\n",
    "client = OpenAI(api_key=os.getenv(\"OPENAI_API_KEY\"))"
   ]
  },
  {
   "cell_type": "code",
   "execution_count": 16,
   "metadata": {},
   "outputs": [
    {
     "name": "stdout",
     "output_type": "stream",
     "text": [
      "{'role': 'system', 'content': 'You are an assistant that helps users find sushi restaurants and parking spots in Munich. When a user expresses interest in either sushi, parking, or both, use the set_user_interest function to record their preference.'}\n",
      "{'role': 'user', 'content': ''}\n"
     ]
    }
   ],
   "source": [
    "# Initialize conversation history\n",
    "messages_service = MessagesService()\n",
    "user_interest = None\n",
    "\n",
    "# Initial system message\n",
    "system_prompt = \"You are an assistant that helps users find sushi restaurants and parking spots in Munich. When a user expresses interest in either sushi, parking, or both, use the set_user_interest function to record their preference.\"\n",
    "messages_service.add_system_message(system_prompt)\n",
    "\n",
    "# user_prompt = \"I am Hungry\"\n",
    "user_prompt = input(\"eg. I am looking for a Sushi Restaurant in Munich.\")\n",
    "messages_service.add_user_message(user_prompt)\n",
    "\n",
    "messages_service.print_messages()"
   ]
  },
  {
   "cell_type": "code",
   "execution_count": 17,
   "metadata": {},
   "outputs": [],
   "source": [
    "from tools.user_interest_tools import user_interest_tools\n",
    "from tools.parking_tools import parking_tools\n",
    "from tools.sushi_tools import sushi_tools"
   ]
  },
  {
   "cell_type": "code",
   "execution_count": 18,
   "metadata": {},
   "outputs": [],
   "source": [
    "tool_choice = {\n",
    "    \"type\": \"function\",\n",
    "    \"function\": {\"name\": \"get_user_interest\"}\n",
    "}"
   ]
  },
  {
   "cell_type": "code",
   "execution_count": 19,
   "metadata": {},
   "outputs": [
    {
     "name": "stdout",
     "output_type": "stream",
     "text": [
      "ChatCompletionMessage(content=None, refusal=None, role='assistant', audio=None, function_call=None, tool_calls=[ChatCompletionMessageToolCall(id='call_XML6TghyukrJODy7sUCzW3Gu', function=Function(arguments='{\"interest\":\"BOTH\"}', name='get_user_interest'), type='function')])\n",
      "BOTH\n",
      "[\"Sasou\", \"Galeria Restaurant\", \"Shaokao Asian Grill&Wine\", \"Secret Garden\", \"Marienplatz\", \"City\", \"Platzl Hotel M\\u00fcnchen\"]\n",
      "{'role': 'function', 'name': 'get_user_interest', 'content': '[\"Sasou\", \"Galeria Restaurant\", \"Shaokao Asian Grill&Wine\", \"Secret Garden\", \"Marienplatz\", \"City\", \"Platzl Hotel M\\\\u00fcnchen\"]'}\n"
     ]
    }
   ],
   "source": [
    "# Get user interest\n",
    "completion = client.chat.completions.create(\n",
    "    model=\"gpt-3.5-turbo\",\n",
    "    messages=messages_service.get_messages(),\n",
    "    tool_choice=tool_choice,\n",
    "    tools=user_interest_tools,\n",
    ")\n",
    "\n",
    "assistant_message = completion.choices[0].message\n",
    "print(assistant_message)\n",
    "\n",
    "\n",
    "# The json.loads function converts the string to a Python object\n",
    "from services.user_interest_service import get_user_interest\n",
    "from services.enum_encoder import EnumEncoder\n",
    "\n",
    "interest = json.loads(assistant_message.tool_calls[0].function.arguments).get(\"interest\")\n",
    "print(interest)\n",
    "\n",
    "# Call the function with arguments\n",
    "chosen_function = eval(assistant_message.tool_calls[0].function.name)\n",
    "user_interest = chosen_function(interest)\n",
    "\n",
    "user_interest_json = json.dumps(user_interest, cls=EnumEncoder)\n",
    "print(user_interest_json)\n",
    "\n",
    "messages_service.add_function_message(assistant_message.tool_calls[0].function.name, user_interest_json)\n",
    "messages_service.print_last_message()\n"
   ]
  },
  {
   "cell_type": "code",
   "execution_count": 20,
   "metadata": {},
   "outputs": [],
   "source": [
    "def call_function(assistant_message):\n",
    "    for tool_call in assistant_message.tool_calls:\n",
    "        function_name = tool_call.function.name\n",
    "        function_args = json.loads(tool_call.function.arguments)\n",
    "        \n",
    "        # Here you would actually call your function and get the result\n",
    "        # For now, we'll just create a mock response\n",
    "        function_response = {\"status\": \"success\", \"interest\": function_args.get(\"interest\")}"
   ]
  },
  {
   "cell_type": "code",
   "execution_count": 21,
   "metadata": {},
   "outputs": [],
   "source": [
    "# completion = client.chat.completions.create(\n",
    "#     model=\"gpt-4o\",\n",
    "#     messages=[{\"role\": \"user\", \"content\": \"What's the weather like in Paris today?\"}],\n",
    "#     tools=sushi_tools,\n",
    "# )"
   ]
  }
 ],
 "metadata": {
  "kernelspec": {
   "display_name": ".venv",
   "language": "python",
   "name": "python3"
  },
  "language_info": {
   "codemirror_mode": {
    "name": "ipython",
    "version": 3
   },
   "file_extension": ".py",
   "mimetype": "text/x-python",
   "name": "python",
   "nbconvert_exporter": "python",
   "pygments_lexer": "ipython3",
   "version": "3.12.4"
  }
 },
 "nbformat": 4,
 "nbformat_minor": 2
}
